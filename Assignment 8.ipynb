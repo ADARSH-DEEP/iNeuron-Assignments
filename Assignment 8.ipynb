{
 "cells": [
  {
   "cell_type": "markdown",
   "id": "03c11248",
   "metadata": {},
   "source": [
    "__Q1.__ Is the Python Standard Library included with PyInputPlus?"
   ]
  },
  {
   "cell_type": "markdown",
   "id": "b0f59162",
   "metadata": {},
   "source": [
    "__Ans:__ No PyInputPlus is not a part of Python Standard Library it needs to be installed explicitly using the command !pip install PyInputPlus."
   ]
  },
  {
   "cell_type": "markdown",
   "id": "9291d23c",
   "metadata": {},
   "source": [
    "__Q2.__ Why is PyInputPlus commonly imported with import pyinputplus as pypi?"
   ]
  },
  {
   "cell_type": "markdown",
   "id": "cbaebae6",
   "metadata": {},
   "source": [
    "__Ans:__ You can import the module with import pyinputplus as pyip so that you can enter a shorter name when calling the module's functions."
   ]
  },
  {
   "cell_type": "markdown",
   "id": "e8338404",
   "metadata": {},
   "source": [
    "__Q3.__ How do you distinguish between inputInt() and inputFloat()?"
   ]
  },
  {
   "cell_type": "markdown",
   "id": "c4381196",
   "metadata": {},
   "source": [
    "__Ans:__ inputInt() function Accepts an integer value. This also takes additional parameters min, max, greaterThan and lessThan for bounds. And it always returns an int. Whereas inputFloat() function Accepts a floating-point numeric value. this also takes additional min, max, greaterThan and lessThan parameters. and always returns a float."
   ]
  },
  {
   "cell_type": "markdown",
   "id": "4f7dd1f1",
   "metadata": {},
   "source": [
    "__Q4.__ Using PyInputPlus, how do you ensure that the user enters a whole number between 0 and 99?"
   ]
  },
  {
   "cell_type": "markdown",
   "id": "350af487",
   "metadata": {},
   "source": [
    "__Ans:__ PyInputPlus module provides a function called as inputInt() which only returns only integer values. inorder to restrict the input between 0 and 99 it will use parameters like min & max to ensure that user enters the values between the defined range only."
   ]
  },
  {
   "cell_type": "markdown",
   "id": "54f031cd",
   "metadata": {},
   "source": [
    "__Q5.__ What is transferred to the keyword arguments allowRegexes and blockRegexes?"
   ]
  },
  {
   "cell_type": "markdown",
   "id": "c86c47ee",
   "metadata": {},
   "source": [
    "__Ans:__ we can use allowRegexes and blockRegexes keyword arguments to take list of regular expression strings to determine what the pyinputplus function will reject or accept valid input."
   ]
  },
  {
   "cell_type": "markdown",
   "id": "63cdc1a5",
   "metadata": {},
   "source": [
    "__Q6.__ If a blank input is entered three times, what does inputStr(limit=3) do?"
   ]
  },
  {
   "cell_type": "markdown",
   "id": "ce404e3d",
   "metadata": {},
   "source": [
    "__Ans:__ The statement inputStr(limit=3) will throw two exceptions ValidationException and RetryLimitException. The first exception is thrown because blank values are not allowed by inputStr() function by default. If we want to consider blank values as valid input we have to set blank=True.The second exception is occured because we have reached the max limit we have specified by using limit parameter. inorder to avoid this exception we can use default parameter to return a default value when max limit is reached."
   ]
  },
  {
   "cell_type": "markdown",
   "id": "56bb303a",
   "metadata": {},
   "source": [
    "__Q7.__ If blank input is entered three times, what does inputStr(limit=3, default=&#39;hello&#39;) do?"
   ]
  },
  {
   "cell_type": "markdown",
   "id": "af6e4138",
   "metadata": {},
   "source": [
    "__Ans:__ Since the default parameter is set to hello. after blank input is entered three times instead of raising RetryLimitException exception. The function will return hello as response to the calling function"
   ]
  }
 ],
 "metadata": {
  "kernelspec": {
   "display_name": "Python 3 (ipykernel)",
   "language": "python",
   "name": "python3"
  },
  "language_info": {
   "codemirror_mode": {
    "name": "ipython",
    "version": 3
   },
   "file_extension": ".py",
   "mimetype": "text/x-python",
   "name": "python",
   "nbconvert_exporter": "python",
   "pygments_lexer": "ipython3",
   "version": "3.9.12"
  }
 },
 "nbformat": 4,
 "nbformat_minor": 5
}
