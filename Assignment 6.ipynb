{
 "cells": [
  {
   "cell_type": "markdown",
   "id": "839927b3",
   "metadata": {},
   "source": [
    "__Q1.__ What are escape characters, and how do you use them?"
   ]
  },
  {
   "cell_type": "markdown",
   "id": "fe33a145",
   "metadata": {},
   "source": [
    "__Ans:__ \n",
    "Escape characters represent characters in string values that would be difficult or impossible to type into code. we can use the backslash character to escape a single character or symbol.\n",
    "\n",
    "Escape characters used in python:\n",
    "\n",
    "`\\'`\t  Single Quote\t\n",
    "`\\\\`\t  Backslash\t\n",
    "`\\n`\t  New Line\t\n",
    "`\\r`\t  Carriage Return\t\n",
    "`\\t`\t  Tab\t\n",
    "`\\b`\t  Backspace\t\n",
    "`\\f`\t  Form Feed\t\n",
    "`\\ooo`  Octal value\t\n",
    "`\\xhh`  Hex value"
   ]
  },
  {
   "cell_type": "markdown",
   "id": "3e40cc9b",
   "metadata": {},
   "source": [
    "__Q2.__ What do the escape characters n and t stand for?"
   ]
  },
  {
   "cell_type": "markdown",
   "id": "49b6f0d2",
   "metadata": {},
   "source": [
    "__Ans:__  \\n is for new line and \\t is for tab"
   ]
  },
  {
   "cell_type": "markdown",
   "id": "f99a3523",
   "metadata": {},
   "source": [
    "__Q3.__ What is the way to include backslash characters in a string?"
   ]
  },
  {
   "cell_type": "markdown",
   "id": "d2263f7c",
   "metadata": {},
   "source": [
    "__Ans:__\n",
    "The \\\\ escape character will represent the backslash character in a string."
   ]
  },
  {
   "cell_type": "markdown",
   "id": "625d382d",
   "metadata": {},
   "source": [
    "__Q4.__ The string &quot;Howl&#39;s Moving Castle&quot; is a correct value. Why isn&#39;t the single quote character in the\n",
    "word Howl&#39;s not escaped a problem?"
   ]
  },
  {
   "cell_type": "markdown",
   "id": "2cdaa11d",
   "metadata": {},
   "source": [
    "__Ans:__\n",
    "\n",
    "The string \"Howl's Moving Castle\" escaped the problem because it is wrapped inside double quotes. if its wrapped inside single quotes then we have to use escape character `\\'` to show single quote in the final output.\n",
    "\n",
    "For example: "
   ]
  },
  {
   "cell_type": "code",
   "execution_count": 3,
   "id": "df6f8c2b",
   "metadata": {},
   "outputs": [
    {
     "data": {
      "text/plain": [
       "\"Howl's Moving Castle\""
      ]
     },
     "execution_count": 3,
     "metadata": {},
     "output_type": "execute_result"
    }
   ],
   "source": [
    "'Howl\\'s Moving Castle'"
   ]
  },
  {
   "cell_type": "markdown",
   "id": "776903a1",
   "metadata": {},
   "source": [
    "__Q5.__ How do you write a string of newlines if you don&#39;t want to use the n character?"
   ]
  },
  {
   "cell_type": "markdown",
   "id": "85c00bdc",
   "metadata": {},
   "source": [
    "__Ans:__  Multiline string allow you to use newlines in string without the \\n escape character.For example:"
   ]
  },
  {
   "cell_type": "code",
   "execution_count": 4,
   "id": "ca1d1901",
   "metadata": {},
   "outputs": [
    {
     "name": "stdout",
     "output_type": "stream",
     "text": [
      "India, officially the Republic of India (Hindi: Bhārat Gaṇarājya), \n",
      "       is a country in South Asia.\n",
      "       It is the seventh-largest country by area, \n",
      "       the second-most populous country, and the most populous democracy in the world.\n"
     ]
    }
   ],
   "source": [
    "I = \"\"\"India, officially the Republic of India (Hindi: Bhārat Gaṇarājya), \n",
    "       is a country in South Asia.\n",
    "       It is the seventh-largest country by area, \n",
    "       the second-most populous country, and the most populous democracy in the world.\"\"\"\n",
    "print(I)"
   ]
  },
  {
   "cell_type": "markdown",
   "id": "bf40c6c1",
   "metadata": {},
   "source": [
    "__Q6.__ What are the values of the given expressions?\n",
    "\n",
    "&#39;Hello, world!&#39;[1]\n",
    "\n",
    "&#39;Hello, world!&#39;[0:5]\n",
    "\n",
    "&#39;Hello, world!&#39;[:5]\n",
    "\n",
    "&#39;Hello, world!&#39;[3:]"
   ]
  },
  {
   "cell_type": "markdown",
   "id": "3f7f2c2f",
   "metadata": {},
   "source": [
    "__Ans:__"
   ]
  },
  {
   "cell_type": "code",
   "execution_count": 5,
   "id": "1773102d",
   "metadata": {},
   "outputs": [],
   "source": [
    "t = 'Hello, world!'"
   ]
  },
  {
   "cell_type": "code",
   "execution_count": 6,
   "id": "e3ec7171",
   "metadata": {},
   "outputs": [
    {
     "data": {
      "text/plain": [
       "'e'"
      ]
     },
     "execution_count": 6,
     "metadata": {},
     "output_type": "execute_result"
    }
   ],
   "source": [
    "t[1]"
   ]
  },
  {
   "cell_type": "code",
   "execution_count": 7,
   "id": "770406be",
   "metadata": {},
   "outputs": [
    {
     "data": {
      "text/plain": [
       "'Hello'"
      ]
     },
     "execution_count": 7,
     "metadata": {},
     "output_type": "execute_result"
    }
   ],
   "source": [
    "t[0:5]"
   ]
  },
  {
   "cell_type": "code",
   "execution_count": 8,
   "id": "2458c7ac",
   "metadata": {},
   "outputs": [
    {
     "data": {
      "text/plain": [
       "'Hello'"
      ]
     },
     "execution_count": 8,
     "metadata": {},
     "output_type": "execute_result"
    }
   ],
   "source": [
    "t[:5]"
   ]
  },
  {
   "cell_type": "code",
   "execution_count": 9,
   "id": "048075d2",
   "metadata": {},
   "outputs": [
    {
     "data": {
      "text/plain": [
       "'lo, world!'"
      ]
     },
     "execution_count": 9,
     "metadata": {},
     "output_type": "execute_result"
    }
   ],
   "source": [
    "t[3:]"
   ]
  },
  {
   "cell_type": "markdown",
   "id": "46277de7",
   "metadata": {},
   "source": [
    "__Q7.__ What are the values of the following expressions?\n",
    "\n",
    "&#39;Hello&#39;.upper()\n",
    "\n",
    "&#39;Hello&#39;.upper().isupper()\n",
    "\n",
    "&#39;Hello&#39;.upper().lower()"
   ]
  },
  {
   "cell_type": "markdown",
   "id": "f14f84a0",
   "metadata": {},
   "source": [
    "__Ans:__"
   ]
  },
  {
   "cell_type": "code",
   "execution_count": 10,
   "id": "d1ff2426",
   "metadata": {},
   "outputs": [
    {
     "data": {
      "text/plain": [
       "'HELLO'"
      ]
     },
     "execution_count": 10,
     "metadata": {},
     "output_type": "execute_result"
    }
   ],
   "source": [
    "'Hello'.upper()"
   ]
  },
  {
   "cell_type": "code",
   "execution_count": 11,
   "id": "c8d9c839",
   "metadata": {},
   "outputs": [
    {
     "data": {
      "text/plain": [
       "True"
      ]
     },
     "execution_count": 11,
     "metadata": {},
     "output_type": "execute_result"
    }
   ],
   "source": [
    "'Hello'.upper().isupper()"
   ]
  },
  {
   "cell_type": "code",
   "execution_count": 12,
   "id": "bfb0380d",
   "metadata": {},
   "outputs": [
    {
     "data": {
      "text/plain": [
       "'hello'"
      ]
     },
     "execution_count": 12,
     "metadata": {},
     "output_type": "execute_result"
    }
   ],
   "source": [
    "'Hello'.upper().lower()"
   ]
  },
  {
   "cell_type": "markdown",
   "id": "932cd9a0",
   "metadata": {},
   "source": [
    "__Q8.__ What are the values of the following expressions?\n",
    "\n",
    "&#39;Remember, remember, the fifth of July.&#39;.split()\n",
    "\n",
    "&#39;-&#39;.join(&#39;There can only one.&#39;.split())"
   ]
  },
  {
   "cell_type": "markdown",
   "id": "31a33ab5",
   "metadata": {},
   "source": [
    "__Ans:__"
   ]
  },
  {
   "cell_type": "code",
   "execution_count": 13,
   "id": "eeaee7d2",
   "metadata": {},
   "outputs": [
    {
     "data": {
      "text/plain": [
       "['Remember,', 'remember,', 'the', 'fifth', 'of', 'July.']"
      ]
     },
     "execution_count": 13,
     "metadata": {},
     "output_type": "execute_result"
    }
   ],
   "source": [
    "'Remember, remember, the fifth of July.'.split()"
   ]
  },
  {
   "cell_type": "code",
   "execution_count": 15,
   "id": "f10dda6e",
   "metadata": {},
   "outputs": [
    {
     "data": {
      "text/plain": [
       "'There-can-only-one.'"
      ]
     },
     "execution_count": 15,
     "metadata": {},
     "output_type": "execute_result"
    }
   ],
   "source": [
    "'-'.join('There can only one.'.split())"
   ]
  },
  {
   "cell_type": "markdown",
   "id": "e4afa8fb",
   "metadata": {},
   "source": [
    "__Q9.__ What are the methods for right-justifying, left-justifying, and centering a string?"
   ]
  },
  {
   "cell_type": "markdown",
   "id": "a561e59e",
   "metadata": {},
   "source": [
    "__Ans:__\n",
    "`rjust()`, `ljust()` and `center()` string methods."
   ]
  },
  {
   "cell_type": "markdown",
   "id": "52672bb8",
   "metadata": {},
   "source": [
    "__Q10.__ What is the best way to remove whitespace characters from the start or end?"
   ]
  },
  {
   "cell_type": "markdown",
   "id": "f7611624",
   "metadata": {},
   "source": [
    "__Ans:__ \n",
    "The lstrip() and rstrip() methods remove whitesapce characters from the left and right ends of a string respectively."
   ]
  }
 ],
 "metadata": {
  "celltoolbar": "Raw Cell Format",
  "kernelspec": {
   "display_name": "Python 3 (ipykernel)",
   "language": "python",
   "name": "python3"
  },
  "language_info": {
   "codemirror_mode": {
    "name": "ipython",
    "version": 3
   },
   "file_extension": ".py",
   "mimetype": "text/x-python",
   "name": "python",
   "nbconvert_exporter": "python",
   "pygments_lexer": "ipython3",
   "version": "3.9.12"
  }
 },
 "nbformat": 4,
 "nbformat_minor": 5
}
