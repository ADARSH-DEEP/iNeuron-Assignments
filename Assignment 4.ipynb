{
 "cells": [
  {
   "cell_type": "markdown",
   "id": "90860f81",
   "metadata": {},
   "source": [
    "__Q1.__ What exactly is []?"
   ]
  },
  {
   "cell_type": "markdown",
   "id": "7abf212c",
   "metadata": {},
   "source": [
    "__Ans:__ The empty list represented by []. It is a list that contains no items."
   ]
  },
  {
   "cell_type": "markdown",
   "id": "3cce2484",
   "metadata": {},
   "source": [
    "__Q2.__  In a list of values stored in a variable called spam, how would you assign the value &#39;hello&#39; as the\n",
    "third value? (Assume [2, 4, 6, 8, 10] are in spam.)"
   ]
  },
  {
   "cell_type": "markdown",
   "id": "c8d9b326",
   "metadata": {},
   "source": [
    "__Ans:__ "
   ]
  },
  {
   "cell_type": "code",
   "execution_count": 4,
   "id": "55836601",
   "metadata": {},
   "outputs": [
    {
     "name": "stdout",
     "output_type": "stream",
     "text": [
      "[2, 4, 'hello', 8, 10]\n"
     ]
    }
   ],
   "source": [
    "spam =  [2, 4, 6, 8, 10]\n",
    "spam[2] = 'hello'\n",
    "print(spam)"
   ]
  },
  {
   "cell_type": "markdown",
   "id": "45bedd74",
   "metadata": {},
   "source": [
    "__Let's pretend the spam includes the list ['a','b','c','d'] for the next three queries.__"
   ]
  },
  {
   "cell_type": "markdown",
   "id": "94969307",
   "metadata": {},
   "source": [
    "__Q3.__ What is the value of spam[int(int('3' * 2) / 11)]?"
   ]
  },
  {
   "cell_type": "markdown",
   "id": "99f8d331",
   "metadata": {},
   "source": [
    "__Ans:__ "
   ]
  },
  {
   "cell_type": "code",
   "execution_count": 5,
   "id": "f452ebff",
   "metadata": {},
   "outputs": [
    {
     "data": {
      "text/plain": [
       "'d'"
      ]
     },
     "execution_count": 5,
     "metadata": {},
     "output_type": "execute_result"
    }
   ],
   "source": [
    "spam = ['a','b','c','d']\n",
    "spam[int(int('3' * 2) / 11)]"
   ]
  },
  {
   "cell_type": "markdown",
   "id": "bf24093f",
   "metadata": {},
   "source": [
    "__Q4.__ What is the value of spam[-1]?"
   ]
  },
  {
   "cell_type": "markdown",
   "id": "fb32f644",
   "metadata": {},
   "source": [
    "__Ans:__ "
   ]
  },
  {
   "cell_type": "code",
   "execution_count": 6,
   "id": "e550f7ac",
   "metadata": {},
   "outputs": [
    {
     "data": {
      "text/plain": [
       "'d'"
      ]
     },
     "execution_count": 6,
     "metadata": {},
     "output_type": "execute_result"
    }
   ],
   "source": [
    "spam[-1]"
   ]
  },
  {
   "cell_type": "markdown",
   "id": "1d06bcb9",
   "metadata": {},
   "source": [
    "__Q5.__ What is the value of spam[:2]?"
   ]
  },
  {
   "cell_type": "markdown",
   "id": "311b2e51",
   "metadata": {},
   "source": [
    "__Ans:__ "
   ]
  },
  {
   "cell_type": "code",
   "execution_count": 7,
   "id": "c4b523f6",
   "metadata": {},
   "outputs": [
    {
     "data": {
      "text/plain": [
       "['a', 'b']"
      ]
     },
     "execution_count": 7,
     "metadata": {},
     "output_type": "execute_result"
    }
   ],
   "source": [
    "spam[:2]"
   ]
  },
  {
   "cell_type": "markdown",
   "id": "cea537b2",
   "metadata": {},
   "source": [
    "__Let's pretend bacon has the list [3.14, 'cat', 11, 'cat', True] for the next three questions.__"
   ]
  },
  {
   "cell_type": "markdown",
   "id": "b08c9d7b",
   "metadata": {},
   "source": [
    "__Q6.__ What is the value of bacon.index('cat')?"
   ]
  },
  {
   "cell_type": "markdown",
   "id": "1e8c054a",
   "metadata": {},
   "source": [
    "__Ans:__ "
   ]
  },
  {
   "cell_type": "code",
   "execution_count": 8,
   "id": "6224d36e",
   "metadata": {},
   "outputs": [
    {
     "data": {
      "text/plain": [
       "1"
      ]
     },
     "execution_count": 8,
     "metadata": {},
     "output_type": "execute_result"
    }
   ],
   "source": [
    "bacon = [3.14, 'cat', 11, 'cat', True]\n",
    "bacon.index('cat')"
   ]
  },
  {
   "cell_type": "markdown",
   "id": "887218ca",
   "metadata": {},
   "source": [
    "__Q7.__ How does bacon.append(99) change the look of the list value in bacon?"
   ]
  },
  {
   "cell_type": "markdown",
   "id": "eab5f511",
   "metadata": {},
   "source": [
    "__Ans:__"
   ]
  },
  {
   "cell_type": "code",
   "execution_count": 9,
   "id": "f869352b",
   "metadata": {},
   "outputs": [
    {
     "name": "stdout",
     "output_type": "stream",
     "text": [
      "[3.14, 'cat', 11, 'cat', True]\n",
      "[3.14, 'cat', 11, 'cat', True, 99]\n"
     ]
    }
   ],
   "source": [
    "print(bacon)\n",
    "bacon.append(99)\n",
    "print(bacon)"
   ]
  },
  {
   "cell_type": "markdown",
   "id": "5a76037d",
   "metadata": {},
   "source": [
    "__Q8.__ How does bacon.remove(&#39;cat&#39;) change the look of the list in bacon?"
   ]
  },
  {
   "cell_type": "markdown",
   "id": "46524a83",
   "metadata": {},
   "source": [
    "__Ans:__"
   ]
  },
  {
   "cell_type": "code",
   "execution_count": 10,
   "id": "83be39a8",
   "metadata": {},
   "outputs": [
    {
     "name": "stdout",
     "output_type": "stream",
     "text": [
      "[3.14, 'cat', 11, 'cat', True, 99]\n",
      "[3.14, 11, 'cat', True, 99]\n"
     ]
    }
   ],
   "source": [
    "print(bacon)\n",
    "bacon.remove('cat')\n",
    "print(bacon)"
   ]
  },
  {
   "cell_type": "markdown",
   "id": "9b335fe2",
   "metadata": {},
   "source": [
    "__Q9.__ What are the list concatenation and list replication operators?"
   ]
  },
  {
   "cell_type": "markdown",
   "id": "5bd06839",
   "metadata": {},
   "source": [
    "__Ans:__ \n",
    "\n",
    "The list concatenation operation is done with the help of '+' sign and it helps to connect two or more lists together. Replication operation is done with the help of '*' sign and in this operation we can replicate any lists N-number of times. \n",
    "For example:-"
   ]
  },
  {
   "cell_type": "code",
   "execution_count": 11,
   "id": "0a31bec2",
   "metadata": {},
   "outputs": [
    {
     "name": "stdout",
     "output_type": "stream",
     "text": [
      "['Adarsh', 'Deep', 'iNeuron', 1997, 'Python', 'Mysql', 'PowerBI']\n",
      "['Python', 'Mysql', 'PowerBI', 'Python', 'Mysql', 'PowerBI']\n"
     ]
    }
   ],
   "source": [
    "list_1 = [\"Adarsh\",\"Deep\",\"iNeuron\",1997]\n",
    "list_2 = [\"Python\",\"Mysql\",\"PowerBI\"]\n",
    "print(list_1 + list_2) # List Concatenation\n",
    "print(list_2*2) # List Replication"
   ]
  },
  {
   "cell_type": "markdown",
   "id": "4ad451ad",
   "metadata": {},
   "source": [
    "__Q10.__ What is difference between the list methods append() and insert()?"
   ]
  },
  {
   "cell_type": "markdown",
   "id": "feb61ec1",
   "metadata": {},
   "source": [
    "__Ans:__\n",
    "\n",
    "append() add values at the end of a list where as insert() add values anywhere by using index in the list . For Example:-"
   ]
  },
  {
   "cell_type": "code",
   "execution_count": 12,
   "id": "d1fae101",
   "metadata": {},
   "outputs": [
    {
     "name": "stdout",
     "output_type": "stream",
     "text": [
      "[1, 2, 3, 4, 5]\n",
      "[1, 2, 3, 4, 5, 6]\n",
      "[1, 2, 'Adarsh', 3, 4, 5, 6]\n"
     ]
    }
   ],
   "source": [
    "list = [1,2,3,4,5]\n",
    "print(list)\n",
    "list.append(6)\n",
    "print(list)\n",
    "list.insert(2,'Adarsh')\n",
    "print(list)"
   ]
  },
  {
   "cell_type": "markdown",
   "id": "5148f7a9",
   "metadata": {},
   "source": [
    "__Q11.__ What are the two methods for removing items from a list?"
   ]
  },
  {
   "cell_type": "markdown",
   "id": "18894026",
   "metadata": {},
   "source": [
    "__Ans.__ \n",
    "\n",
    "pop() and remove() are the two methods for removing items from a list.\n",
    "pop():- It removes particular index data if not mentioned any index it will remove the last element of list by default\n",
    "remove():- It will remove the element which is available first and if the element is not present it will give error. "
   ]
  },
  {
   "cell_type": "markdown",
   "id": "1a8f7102",
   "metadata": {},
   "source": [
    "__Q12.__ Describe how list values and string values are identical."
   ]
  },
  {
   "cell_type": "markdown",
   "id": "3d275a65",
   "metadata": {},
   "source": [
    "__Ans:__\n",
    "\n",
    "Any values present in [] brakets is identified as list as well as any values present in between '' or \"\" quotes is known as string values.For example:-    String values -->  \"Adarsh Deep\"            \n",
    "list values --> [\"Adarsh\",\"Deep\",364]"
   ]
  },
  {
   "cell_type": "markdown",
   "id": "ae58f919",
   "metadata": {},
   "source": [
    "__Q13.__ What's the difference between tuples and lists?"
   ]
  },
  {
   "cell_type": "markdown",
   "id": "bb3edc26",
   "metadata": {},
   "source": [
    "__Ans.__\n",
    "Lists are Mutable, Indexable and Slicable they can add, remove or change values. Tuples are Immutable but Indexable and Slicable. The tuple values cannot be changed at all. Tuples are represented using parentheses () while lists use the square brackets [ ]."
   ]
  },
  {
   "cell_type": "markdown",
   "id": "89c0f509",
   "metadata": {},
   "source": [
    "__Q14.__ How do you type a tuple value that only contains the integer 42?"
   ]
  },
  {
   "cell_type": "markdown",
   "id": "e8aed2e0",
   "metadata": {},
   "source": [
    "__Ans:__ "
   ]
  },
  {
   "cell_type": "code",
   "execution_count": 3,
   "id": "2ec43178",
   "metadata": {},
   "outputs": [
    {
     "name": "stdout",
     "output_type": "stream",
     "text": [
      "<class 'int'>\n",
      "<class 'tuple'>\n"
     ]
    }
   ],
   "source": [
    "tup1=(42)\n",
    "tup2=(42,)\n",
    "print(type(tup1))\n",
    "print(type(tup2))"
   ]
  },
  {
   "cell_type": "markdown",
   "id": "a2d44a5c",
   "metadata": {},
   "source": [
    "__Q15.__ How do you get a list value&#39;s tuple form? How do you get a tuple value&#39;s list form?"
   ]
  },
  {
   "cell_type": "markdown",
   "id": "f165bf66",
   "metadata": {},
   "source": [
    "__Ans:__\n"
   ]
  },
  {
   "cell_type": "code",
   "execution_count": 1,
   "id": "e8d9670a",
   "metadata": {
    "scrolled": true
   },
   "outputs": [
    {
     "name": "stdout",
     "output_type": "stream",
     "text": [
      "(10, 20, 30, 40, 50)\n",
      "<class 'tuple'>\n",
      "[10, 20, 30, 40, 50]\n",
      "<class 'list'>\n"
     ]
    }
   ],
   "source": [
    "t = (10,20,30,40,50)\n",
    "print(t)\n",
    "print(type(t))\n",
    "l = list(t)\n",
    "print(l)\n",
    "print(type(l))"
   ]
  },
  {
   "cell_type": "code",
   "execution_count": 2,
   "id": "983a119d",
   "metadata": {},
   "outputs": [
    {
     "name": "stdout",
     "output_type": "stream",
     "text": [
      "[1, 2, 3, 4, 5, 6, 'Adarsh', True]\n",
      "<class 'list'>\n",
      "(1, 2, 3, 4, 5, 6, 'Adarsh', True)\n",
      "<class 'tuple'>\n"
     ]
    }
   ],
   "source": [
    "ll = [1,2,3,4,5,6,\"Adarsh\", True]\n",
    "print(ll)\n",
    "print(type(l))\n",
    "tt = tuple(ll)\n",
    "print(tt)\n",
    "print(type(tt))"
   ]
  },
  {
   "cell_type": "markdown",
   "id": "a2453ac8",
   "metadata": {},
   "source": [
    "__Q16.__ Variables that &quot;contain&quot; list values are not necessarily lists themselves. Instead, what do they contain?"
   ]
  },
  {
   "cell_type": "markdown",
   "id": "4508d4d2",
   "metadata": {},
   "source": [
    "__Ans:__ \n",
    "They contain references to list values."
   ]
  },
  {
   "cell_type": "markdown",
   "id": "77b3bd5e",
   "metadata": {},
   "source": [
    "__Q17.__ How do you distinguish between copy.copy() and copy.deepcopy()?"
   ]
  }
 ],
 "metadata": {
  "kernelspec": {
   "display_name": "Python 3 (ipykernel)",
   "language": "python",
   "name": "python3"
  },
  "language_info": {
   "codemirror_mode": {
    "name": "ipython",
    "version": 3
   },
   "file_extension": ".py",
   "mimetype": "text/x-python",
   "name": "python",
   "nbconvert_exporter": "python",
   "pygments_lexer": "ipython3",
   "version": "3.9.12"
  }
 },
 "nbformat": 4,
 "nbformat_minor": 5
}
