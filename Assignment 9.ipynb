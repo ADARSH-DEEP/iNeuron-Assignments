{
 "cells": [
  {
   "cell_type": "markdown",
   "id": "49710ca1",
   "metadata": {},
   "source": [
    "__Q1.__ To what does a relative path refer?"
   ]
  },
  {
   "cell_type": "markdown",
   "id": "1bcc4c1a",
   "metadata": {},
   "source": [
    "__Ans:__ The relative path is the path to some file with respect to your current working directory (PWD).\n",
    "\n",
    "For example: if Absolute path to a file called stuff.txt is: C:/users/admin/docs/stuff.txt If my PWD is C:/users/admin/  then the relative path to stuff.txt would be: docs/stuff.txt.\n",
    "\n",
    "Note: PWD + relative path = absolute path"
   ]
  },
  {
   "cell_type": "markdown",
   "id": "18c85c56",
   "metadata": {},
   "source": [
    "__Q2.__ What does an absolute path start with your operating system?"
   ]
  },
  {
   "cell_type": "markdown",
   "id": "ff85c9b9",
   "metadata": {},
   "source": [
    "__Ans:__ In Linux based systems the absolute path starts with /. Where as in Windows based systems absolute path starts with C:"
   ]
  },
  {
   "cell_type": "markdown",
   "id": "16ee59df",
   "metadata": {},
   "source": [
    "__Q3.__ What do the functions os.getcwd() and os.chdir() do?"
   ]
  },
  {
   "cell_type": "markdown",
   "id": "b79da0e5",
   "metadata": {},
   "source": [
    "__Ans:__ os.getcwd() method tells us the location of current working directory (CWD). Whereas os.chdir() method in Python used to change the current working directory to specified path. These functions are similar to linux commands pwd and cd."
   ]
  },
  {
   "cell_type": "markdown",
   "id": "c843800b",
   "metadata": {},
   "source": [
    "__Q4.__ What are the . and .. folders?"
   ]
  },
  {
   "cell_type": "markdown",
   "id": "0962622e",
   "metadata": {},
   "source": [
    "__Ans:__ . Represents the Current Directory Whereas .. Represents the Parent Directory of the Current Directory"
   ]
  },
  {
   "cell_type": "markdown",
   "id": "492cef0d",
   "metadata": {},
   "source": [
    "__Q5.__ In C:\\bacon\\eggs\\spam.txt, which part is the dir name, and which part is the base name?"
   ]
  },
  {
   "cell_type": "markdown",
   "id": "9f3269c8",
   "metadata": {},
   "source": [
    "__Ans:__ For C:\\bacon\\eggs\\spam.txt\n",
    "The dir name is C:\\\\bacon\\\\eggs\n",
    "The Base name is spam.txt"
   ]
  },
  {
   "cell_type": "markdown",
   "id": "64fc9a10",
   "metadata": {},
   "source": [
    "__Q6.__ What are the three “mode” arguments that can be passed to the open() function?"
   ]
  },
  {
   "cell_type": "markdown",
   "id": "b9a01d07",
   "metadata": {},
   "source": [
    "__Ans:__  A file can be Accessed in python using open() function. open function takes two arguments filename and mode of operation (optional). if mode is not provided the default mode of opening is read mode.\n",
    "\n",
    "The syntax being: open(filename, mode)"
   ]
  },
  {
   "cell_type": "markdown",
   "id": "cb9dbcc7",
   "metadata": {},
   "source": [
    "__Q7.__ What happens if an existing file is opened in write mode?"
   ]
  },
  {
   "cell_type": "markdown",
   "id": "aa14da6e",
   "metadata": {},
   "source": [
    "__Ans:__ Using this mode will overwrite any existing content in a file. If the given file does not exist, a new one will be created."
   ]
  },
  {
   "cell_type": "markdown",
   "id": "73cf590f",
   "metadata": {},
   "source": [
    "__Q8.__ How do you tell the difference between read() and readlines()?"
   ]
  },
  {
   "cell_type": "markdown",
   "id": "bc8495fd",
   "metadata": {},
   "source": [
    "__Ans:__ The main difference is that read() will read the whole file at once and then print out the first characters that take up as many bytes as you specify in the parenthesis.The read() would treat each character in the file separately meaning that the iteration would happen for every character.\n",
    "\n",
    "Whereas the readline() that will read and print out only the first characters that take up as many bytes as you specify in the parenthesis. You may want to use readline() when you're reading files that are too big for your RAM.The readline() function on the other hand only reads a single line of the file. This means that if the first line of the file were three lines long the readline() function would only parse (or iterate/operate) on the first line of the file."
   ]
  },
  {
   "cell_type": "markdown",
   "id": "005aefec",
   "metadata": {},
   "source": [
    "__Q9.__ What data structure does a shelf value resemble?"
   ]
  },
  {
   "cell_type": "markdown",
   "id": "8c836b7e",
   "metadata": {},
   "source": [
    "__Ans:__ it contains key and values it represents dictionary."
   ]
  }
 ],
 "metadata": {
  "kernelspec": {
   "display_name": "Python 3 (ipykernel)",
   "language": "python",
   "name": "python3"
  },
  "language_info": {
   "codemirror_mode": {
    "name": "ipython",
    "version": 3
   },
   "file_extension": ".py",
   "mimetype": "text/x-python",
   "name": "python",
   "nbconvert_exporter": "python",
   "pygments_lexer": "ipython3",
   "version": "3.9.12"
  }
 },
 "nbformat": 4,
 "nbformat_minor": 5
}
