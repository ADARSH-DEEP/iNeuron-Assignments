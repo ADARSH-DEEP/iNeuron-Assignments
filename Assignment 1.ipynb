{
 "cells": [
  {
   "cell_type": "markdown",
   "id": "93ad2d39",
   "metadata": {},
   "source": [
    "Q-1. In the below elements which of them are values or an expression? eg:- values can be\n",
    "integer or string and expressions will be mathematical operators.\n",
    "*\n",
    "'hello'\n",
    "-87.8\n",
    "-\n",
    "/\n",
    "+\n",
    "6"
   ]
  },
  {
   "cell_type": "markdown",
   "id": "9de51b95",
   "metadata": {},
   "source": [
    "Ans: \n",
    "\n",
    "*          expression\n",
    "\n",
    "'hello'    values\n",
    "\n",
    "-87.8      values\n",
    "\n",
    "-          expression\n",
    "\n",
    "/          expression\n",
    "\n",
    "+          expression\n",
    "\n",
    "6          values"
   ]
  },
  {
   "cell_type": "markdown",
   "id": "b266ab4a",
   "metadata": {},
   "source": [
    "Q2. What is the difference between string and variable?"
   ]
  },
  {
   "cell_type": "markdown",
   "id": "ce36f3ac",
   "metadata": {},
   "source": [
    "Ans:\n",
    "String - It is a type information which we store in a variable .\n",
    "         Any thing which is enclosed inside double \"\" or a single '' is string.\n",
    "Variable - It is a storage where we can store different types of information.\n",
    "            \n",
    "    \n",
    "Example: A = \"Adarsh\"\n",
    "\n",
    "Here A is a variable in which we declared a string \"Adarsh\" by using an expression = . \n",
    "           "
   ]
  },
  {
   "cell_type": "markdown",
   "id": "d0032369",
   "metadata": {},
   "source": [
    "Q3. Describe three different data types."
   ]
  },
  {
   "cell_type": "markdown",
   "id": "d5361c8d",
   "metadata": {},
   "source": [
    "Ans:\n",
    "Three different data types are:-\n",
    "1. String\n",
    "2. integers\n",
    "3. Boolea\n"
   ]
  },
  {
   "cell_type": "markdown",
   "id": "e87fba0b",
   "metadata": {},
   "source": [
    "Q4. What is an expression made up of? What do all expressions do?"
   ]
  },
  {
   "cell_type": "markdown",
   "id": "34a9fc56",
   "metadata": {},
   "source": [
    "Ans:\n",
    "Expression are made up of operators and operands or we can say expression are a combination of values and functions which are combined to create a new values. By using operators and operands we can produce other values. for example:-\n",
    "5 + 4 = 9\n",
    "in the aboove example '5' and '4' is are operands and '+' is an operator and by use of both we are able to perform addition and get new value as '9'. \n"
   ]
  },
  {
   "cell_type": "markdown",
   "id": "418b5604",
   "metadata": {},
   "source": [
    "Q5. This assignment statements, like spam = 10. What is the difference between an expression and a statement?"
   ]
  },
  {
   "cell_type": "markdown",
   "id": "1e67786b",
   "metadata": {},
   "source": [
    "Ans:\n",
    "Expression are a combination of operators and operands which returns a value. Where as statements are instruction that a python can execute is called a Statement. For example:-\n",
    "expression:                                                           statement:\n",
    "          a =5                                                                     x = 3\n",
    "          a+20                                                                     print(x)\n",
    "          25\n",
    "                                                                               Output: 3\n",
    "\n"
   ]
  },
  {
   "cell_type": "markdown",
   "id": "f174ce5b",
   "metadata": {},
   "source": [
    "Q6. After running the following code, what does the variable bacon contain?\n",
    "    bacon = 22\n",
    "    bacon + 1 "
   ]
  },
  {
   "cell_type": "code",
   "execution_count": 1,
   "id": "3fd13e54",
   "metadata": {},
   "outputs": [
    {
     "name": "stdout",
     "output_type": "stream",
     "text": [
      "22\n"
     ]
    }
   ],
   "source": [
    "#Ans:\n",
    "bacon = 22\n",
    "bacon + 1 \n",
    "print(bacon)\n",
    "# Variable bacon contains 22"
   ]
  },
  {
   "cell_type": "markdown",
   "id": "4e8c872b",
   "metadata": {},
   "source": [
    "Q7. What should the values of the following two terms be?\n",
    "    'spam' + 'spamspam'\n",
    "    'spam' * 3 "
   ]
  },
  {
   "cell_type": "code",
   "execution_count": 2,
   "id": "c5035e26",
   "metadata": {},
   "outputs": [
    {
     "name": "stdout",
     "output_type": "stream",
     "text": [
      "spamspamspam\n",
      "spamspamspam\n"
     ]
    }
   ],
   "source": [
    "#Ans:\n",
    "a = 'spam' + 'spamspam'\n",
    "b = 'spam' * 3 \n",
    "print(a)\n",
    "print(b)"
   ]
  },
  {
   "cell_type": "markdown",
   "id": "037db51c",
   "metadata": {},
   "source": [
    "Q8. Why is eggs a valid variable name while 100 is invalid?"
   ]
  },
  {
   "cell_type": "markdown",
   "id": "3532d504",
   "metadata": {},
   "source": [
    "Ans:\n",
    "Variable name can have numbers but not at the beginning. \n"
   ]
  },
  {
   "cell_type": "markdown",
   "id": "028f4594",
   "metadata": {},
   "source": [
    "Q9. What three functions can be used to get the integer, floating-point number, or string version of a value? "
   ]
  },
  {
   "cell_type": "markdown",
   "id": "e12aa708",
   "metadata": {},
   "source": [
    "Ans:\n",
    "int()\n",
    "float()\n",
    "str()\n"
   ]
  },
  {
   "cell_type": "markdown",
   "id": "ef987fb1",
   "metadata": {},
   "source": [
    "Q10. Why does this expression cause an error? How can you fix it?\n",
    "     'I have eaten ' + 99 + ' burritos.'"
   ]
  },
  {
   "cell_type": "code",
   "execution_count": 3,
   "id": "fc9a2816",
   "metadata": {},
   "outputs": [
    {
     "data": {
      "text/plain": [
       "'I have eaten 99 burritos.'"
      ]
     },
     "execution_count": 3,
     "metadata": {},
     "output_type": "execute_result"
    }
   ],
   "source": [
    "#Ans:\n",
    " #'I have eaten ' + 99 + ' burritos.' \n",
    " #The above expression cas error because 'I have eaten ' and ' burritos.' are string while 99 is integer  so in order to print 'I have eaten 99 burritos.' we have to include 99 under single or double quotes.\n",
    "\n",
    "\"I have eaten\" + \" 99 \" + \"burritos.\""
   ]
  },
  {
   "cell_type": "raw",
   "id": "6910ffe5",
   "metadata": {},
   "source": []
  }
 ],
 "metadata": {
  "kernelspec": {
   "display_name": "Python 3 (ipykernel)",
   "language": "python",
   "name": "python3"
  },
  "language_info": {
   "codemirror_mode": {
    "name": "ipython",
    "version": 3
   },
   "file_extension": ".py",
   "mimetype": "text/x-python",
   "name": "python",
   "nbconvert_exporter": "python",
   "pygments_lexer": "ipython3",
   "version": "3.9.12"
  }
 },
 "nbformat": 4,
 "nbformat_minor": 5
}
