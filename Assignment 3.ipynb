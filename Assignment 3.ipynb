{
 "cells": [
  {
   "cell_type": "markdown",
   "id": "6b7703df",
   "metadata": {},
   "source": [
    "__Q1.__ Why are functions advantageous to have in your programs?"
   ]
  },
  {
   "cell_type": "markdown",
   "id": "e5ead487",
   "metadata": {},
   "source": [
    "__Ans:__ \n",
    "\n",
    "The main advantage of functions is Reusability of codes. Functions reduce the need for duplicate code. Because of functions program gets shorter, easier to read, and easier to update. "
   ]
  },
  {
   "cell_type": "markdown",
   "id": "61959e1e",
   "metadata": {},
   "source": [
    "__Q2.__ When does the code in a function run: when it&#39;s specified or when it&#39;s called?"
   ]
  },
  {
   "cell_type": "markdown",
   "id": "c3cf43b8",
   "metadata": {},
   "source": [
    "__Ans:__ The code in a function runs when the function is called."
   ]
  },
  {
   "cell_type": "markdown",
   "id": "88f08c63",
   "metadata": {},
   "source": [
    "__Q3.__ What statement creates a function?"
   ]
  },
  {
   "cell_type": "markdown",
   "id": "4ca918ba",
   "metadata": {},
   "source": [
    "__Ans:__ The def statement creates or defines a function."
   ]
  },
  {
   "cell_type": "markdown",
   "id": "8ec211df",
   "metadata": {},
   "source": [
    "__Q4.__ What is the difference between a function and a function call?"
   ]
  },
  {
   "cell_type": "markdown",
   "id": "ddd3d3f2",
   "metadata": {},
   "source": [
    "__Ans:__  A function is procedure to achieve a particular result. while function call is using function to achive any task. Using a function to do a particular task at any point of time in programming is called as function call."
   ]
  },
  {
   "cell_type": "markdown",
   "id": "37be3a66",
   "metadata": {},
   "source": [
    "__Q5.__ How many global scopes are there in a Python program? How many local scopes?"
   ]
  },
  {
   "cell_type": "markdown",
   "id": "dc53bf16",
   "metadata": {},
   "source": [
    "__Ans:__ There is one global scope and local scope is created whenever a function is called."
   ]
  },
  {
   "cell_type": "markdown",
   "id": "1a9bf62d",
   "metadata": {},
   "source": [
    "__Q6.__ What happens to variables in a local scope when the function call returns?"
   ]
  },
  {
   "cell_type": "markdown",
   "id": "c3cc42d4",
   "metadata": {},
   "source": [
    "__Ans:__ When a function call returns the local scope is destroyed and all the variables in it are forgotten."
   ]
  },
  {
   "cell_type": "markdown",
   "id": "1894be4f",
   "metadata": {},
   "source": [
    "__Q7.__ What is the concept of a return value? Is it possible to have a return value in an expression?"
   ]
  },
  {
   "cell_type": "markdown",
   "id": "5124928a",
   "metadata": {},
   "source": [
    "__Ans:__  A return value is the value that a function call evaluates to. Like any value, a return value can be used as part of an expression."
   ]
  },
  {
   "cell_type": "markdown",
   "id": "efb6c40c",
   "metadata": {},
   "source": [
    "__Q8.__ If a function does not have a return statement, what is the return value of a call to that function?"
   ]
  },
  {
   "cell_type": "markdown",
   "id": "fd5d90d6",
   "metadata": {},
   "source": [
    "__Ans:__ If there is no return statement for a function thrn it's return value is None."
   ]
  },
  {
   "cell_type": "markdown",
   "id": "7f1d28af",
   "metadata": {},
   "source": [
    "__Q9.__ How do you make a function variable refer to the global variable?"
   ]
  },
  {
   "cell_type": "markdown",
   "id": "9940c169",
   "metadata": {},
   "source": [
    "__Ans:__ A global statement will force a variable in a function to refer to the global variable. If we want to refer to a global variable in a function we can use the global keyword to declare which variables are global."
   ]
  },
  {
   "cell_type": "markdown",
   "id": "21c6c293",
   "metadata": {},
   "source": [
    "__Q10.__ What is the data type of None?"
   ]
  },
  {
   "cell_type": "markdown",
   "id": "6bb47292",
   "metadata": {},
   "source": [
    "__Ans:__ The data type of None is NoneType."
   ]
  },
  {
   "cell_type": "markdown",
   "id": "e932be13",
   "metadata": {},
   "source": [
    "__Q11.__ What does the sentence import areallyourpetsnamederic do?"
   ]
  },
  {
   "cell_type": "markdown",
   "id": "cb66a3e2",
   "metadata": {},
   "source": [
    "__Ans:__ That import statement imports a module named areallyourpetsnamederic."
   ]
  },
  {
   "cell_type": "markdown",
   "id": "3ab23546",
   "metadata": {},
   "source": [
    "__Q12.__ If you had a bacon() feature in a spam module, what would you call it after importing spam?"
   ]
  },
  {
   "cell_type": "markdown",
   "id": "986035f4",
   "metadata": {},
   "source": [
    "__Ans:__ spam.bacon()"
   ]
  },
  {
   "cell_type": "markdown",
   "id": "06384cdf",
   "metadata": {},
   "source": [
    "__Q13.__ What can you do to save a programme from crashing if it encounters an error?"
   ]
  },
  {
   "cell_type": "markdown",
   "id": "f0443112",
   "metadata": {},
   "source": [
    "__Ans:__ Place the line of code that might cause an error in a try clause and use except block to handle the error."
   ]
  },
  {
   "cell_type": "markdown",
   "id": "9fe4fd50",
   "metadata": {},
   "source": [
    "__Q14.__ What is the purpose of the try clause? What is the purpose of the except clause?"
   ]
  },
  {
   "cell_type": "markdown",
   "id": "ab90f298",
   "metadata": {},
   "source": [
    "__Ans:__ The code that could potentially cause an error goes in the try clause. The code that executes if an error happens goes in the except clause."
   ]
  }
 ],
 "metadata": {
  "kernelspec": {
   "display_name": "Python 3 (ipykernel)",
   "language": "python",
   "name": "python3"
  },
  "language_info": {
   "codemirror_mode": {
    "name": "ipython",
    "version": 3
   },
   "file_extension": ".py",
   "mimetype": "text/x-python",
   "name": "python",
   "nbconvert_exporter": "python",
   "pygments_lexer": "ipython3",
   "version": "3.9.12"
  }
 },
 "nbformat": 4,
 "nbformat_minor": 5
}
