{
 "cells": [
  {
   "cell_type": "markdown",
   "id": "090a7c9f",
   "metadata": {},
   "source": [
    "__Q1.__ What does an empty dictionary&#39;s code look like?"
   ]
  },
  {
   "cell_type": "markdown",
   "id": "7833c667",
   "metadata": {},
   "source": [
    "__Ans__ \n",
    "An empty dictionary is often represented by two empty curly brackets\n",
    "d = {} "
   ]
  },
  {
   "cell_type": "markdown",
   "id": "ee3ca195",
   "metadata": {},
   "source": [
    "__Q2.__ What is the value of a dictionary value with the key &#39;foo&#39; and the value 42?"
   ]
  },
  {
   "cell_type": "markdown",
   "id": "e7e8060f",
   "metadata": {},
   "source": [
    "__Ans__ "
   ]
  },
  {
   "cell_type": "code",
   "execution_count": 1,
   "id": "cddfa067",
   "metadata": {},
   "outputs": [
    {
     "name": "stdout",
     "output_type": "stream",
     "text": [
      "42\n"
     ]
    }
   ],
   "source": [
    "d = {'foo' : 42}\n",
    "print(d['foo'])"
   ]
  },
  {
   "cell_type": "markdown",
   "id": "d7aa9c4a",
   "metadata": {},
   "source": [
    "__Q3.__ What is the most significant distinction between a dictionary and a list?"
   ]
  },
  {
   "cell_type": "markdown",
   "id": "405f790d",
   "metadata": {},
   "source": [
    "__Ans:__\n",
    "Dictionaries are represented by { } where as listed are represented by [ ]\n",
    "The Items stored in a dictionary are Unordered and are in a form of key and values while the items in a list are in order."
   ]
  },
  {
   "cell_type": "markdown",
   "id": "2ea9dc81",
   "metadata": {},
   "source": [
    "__Q4.__ What happens if you try to access spam[&#39;foo&#39;] if spam is {&#39;bar&#39;: 100}?"
   ]
  },
  {
   "cell_type": "markdown",
   "id": "1fd24c6c",
   "metadata": {},
   "source": [
    "__Ans:__ "
   ]
  },
  {
   "cell_type": "code",
   "execution_count": 2,
   "id": "b9399971",
   "metadata": {},
   "outputs": [
    {
     "ename": "KeyError",
     "evalue": "'foo'",
     "output_type": "error",
     "traceback": [
      "\u001b[1;31m---------------------------------------------------------------------------\u001b[0m",
      "\u001b[1;31mKeyError\u001b[0m                                  Traceback (most recent call last)",
      "Input \u001b[1;32mIn [2]\u001b[0m, in \u001b[0;36m<cell line: 3>\u001b[1;34m()\u001b[0m\n\u001b[0;32m      1\u001b[0m \u001b[38;5;66;03m#we will get a keyError KeyError: 'foo'\u001b[39;00m\n\u001b[0;32m      2\u001b[0m spam \u001b[38;5;241m=\u001b[39m {\u001b[38;5;124m'\u001b[39m\u001b[38;5;124mbar\u001b[39m\u001b[38;5;124m'\u001b[39m: \u001b[38;5;241m100\u001b[39m}\n\u001b[1;32m----> 3\u001b[0m \u001b[43mspam\u001b[49m\u001b[43m[\u001b[49m\u001b[38;5;124;43m'\u001b[39;49m\u001b[38;5;124;43mfoo\u001b[39;49m\u001b[38;5;124;43m'\u001b[39;49m\u001b[43m]\u001b[49m\n",
      "\u001b[1;31mKeyError\u001b[0m: 'foo'"
     ]
    }
   ],
   "source": [
    "#we will get a keyError KeyError: 'foo'\n",
    "spam = {'bar': 100}\n",
    "spam['foo']"
   ]
  },
  {
   "cell_type": "markdown",
   "id": "a2ff0d14",
   "metadata": {},
   "source": [
    "__Q5.__ If a dictionary is stored in spam, what is the difference between the expressions &#39;cat&#39; in spam and\n",
    "&#39;cat&#39; in spam.keys()?"
   ]
  },
  {
   "cell_type": "markdown",
   "id": "d97fe6bc",
   "metadata": {},
   "source": [
    "__Ans:__\n",
    "Expressions 'cat' in spam can denote key or values in a dictionary where as in the 'cat' in spam.keys() operator checks whether a value exits as a key in the dictionary or not."
   ]
  },
  {
   "cell_type": "markdown",
   "id": "94e0e046",
   "metadata": {},
   "source": [
    "__Q6.__ If a dictionary is stored in spam, what is the difference between the expressions &#39;cat&#39; in spam and\n",
    "&#39;cat&#39; in spam.values()?"
   ]
  },
  {
   "cell_type": "markdown",
   "id": "4fc6e961",
   "metadata": {},
   "source": [
    "__Ans:__ \n",
    "Operator checks whether a value exists as a key in the dictionary. 'cat' in spam checks whether there is a 'cat' key in the dictionary while 'cat' in spam. values() checks whether there is a value 'cat' for one of the keys in spam."
   ]
  },
  {
   "cell_type": "markdown",
   "id": "02eb3491",
   "metadata": {},
   "source": [
    "__Q7__ What is a shortcut for the following code?\n",
    "\n",
    "if &#39;color&#39; not in spam:\n",
    "spam[&#39;color&#39;] = &#39;black&#39;"
   ]
  },
  {
   "cell_type": "markdown",
   "id": "fe4c5a98",
   "metadata": {},
   "source": [
    "__Ans:__"
   ]
  },
  {
   "cell_type": "code",
   "execution_count": 3,
   "id": "1aa7ed80",
   "metadata": {},
   "outputs": [
    {
     "data": {
      "text/plain": [
       "'black'"
      ]
     },
     "execution_count": 3,
     "metadata": {},
     "output_type": "execute_result"
    }
   ],
   "source": [
    "spam.setdefault('color','black')"
   ]
  },
  {
   "cell_type": "markdown",
   "id": "ab96c788",
   "metadata": {},
   "source": [
    "__Q8.__ How do you &quot;pretty print&quot; dictionary values using which module and function?"
   ]
  },
  {
   "cell_type": "markdown",
   "id": "e1b0918e",
   "metadata": {},
   "source": [
    "__Ans:__\n",
    " By using pprint() to Pretty Print a Dictionary in Python. Within the pprint module there is a function with the same name pprint() which used as a function to pretty-print the given string or object."
   ]
  }
 ],
 "metadata": {
  "kernelspec": {
   "display_name": "Python 3 (ipykernel)",
   "language": "python",
   "name": "python3"
  },
  "language_info": {
   "codemirror_mode": {
    "name": "ipython",
    "version": 3
   },
   "file_extension": ".py",
   "mimetype": "text/x-python",
   "name": "python",
   "nbconvert_exporter": "python",
   "pygments_lexer": "ipython3",
   "version": "3.9.12"
  }
 },
 "nbformat": 4,
 "nbformat_minor": 5
}
