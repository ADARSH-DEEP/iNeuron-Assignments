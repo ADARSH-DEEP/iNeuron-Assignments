{
 "cells": [
  {
   "cell_type": "markdown",
   "id": "548f01b0",
   "metadata": {},
   "source": [
    "__Q1.__ What are the two values of the Boolean data type? How do you write them?"
   ]
  },
  {
   "cell_type": "markdown",
   "id": "d6f64918",
   "metadata": {},
   "source": [
    "__Ans:__\n",
    "Two values of boolean data type are True and False. While writting 'T' of True and 'F' of false should be capital.For example \n"
   ]
  },
  {
   "cell_type": "code",
   "execution_count": 1,
   "id": "7217bc22",
   "metadata": {},
   "outputs": [
    {
     "name": "stdout",
     "output_type": "stream",
     "text": [
      "True <class 'bool'>\n",
      "False <class 'bool'>\n"
     ]
    }
   ],
   "source": [
    "a = 10 \n",
    "b = 5\n",
    "c = bool(a>b)\n",
    "d = bool(b>a)\n",
    "print(c, type(c))  \n",
    "print(d, type(d))"
   ]
  },
  {
   "cell_type": "markdown",
   "id": "cf292571",
   "metadata": {},
   "source": [
    "__Q2.__ What are the three different types of Boolean operators?"
   ]
  },
  {
   "cell_type": "markdown",
   "id": "3bbdf44a",
   "metadata": {},
   "source": [
    "__Ans:__\n",
    "Three types of boolean operators are: __And or not__ "
   ]
  },
  {
   "cell_type": "code",
   "execution_count": 2,
   "id": "c1020214",
   "metadata": {},
   "outputs": [
    {
     "name": "stdout",
     "output_type": "stream",
     "text": [
      "True\n",
      "True\n",
      "False\n"
     ]
    }
   ],
   "source": [
    "a=500\n",
    "b=600\n",
    "print(a>200 and b>400) # Example of boolean and\n",
    "print(a>400 or b>300) # Example of boolean or\n",
    "print(not(a>100))    # Example of boolean not"
   ]
  },
  {
   "cell_type": "markdown",
   "id": "b6f1b865",
   "metadata": {},
   "source": [
    "__Q3.__ Make a list of each Boolean operator's truth tables (i.e. every possible combination of Boolean values for the operator and what it evaluate )."
   ]
  },
  {
   "cell_type": "markdown",
   "id": "83e4a524",
   "metadata": {},
   "source": [
    "__Ans:__\n",
    "\n",
    "__1.__ Truth Table for __and__ operator:\n",
    "\n",
    "        True and True is True \n",
    "        True and False is False\n",
    "        False and True is False\n",
    "        False and False is False\n",
    "        \n",
    "__2.__ Truth Table for __or__ operaotor:\n",
    "\n",
    "        True or True is True\n",
    "        True or False is True\n",
    "        False or True is True\n",
    "        False or False is False\n",
    "        \n",
    "__3.__ Truth Table for __not__ operaotor:\n",
    "\n",
    "        True not is False \n",
    "        False not is True\n"
   ]
  },
  {
   "cell_type": "markdown",
   "id": "48a75412",
   "metadata": {},
   "source": [
    "__Q4.__ What are the values of the following expressions?\n",
    "\n",
    "        (5 > 4) and (3 == 5)\n",
    "        not (5 > 4)\n",
    "        (5 > 4) or (3 == 5)\n",
    "        not ((5 > 4) or (3 == 5))\n",
    "        (True and True) and (True == False)\n",
    "        (not False) or (not True)"
   ]
  },
  {
   "cell_type": "markdown",
   "id": "9c603257",
   "metadata": {},
   "source": [
    "__Ans:__"
   ]
  },
  {
   "cell_type": "code",
   "execution_count": 3,
   "id": "f117c7ce",
   "metadata": {},
   "outputs": [
    {
     "name": "stdout",
     "output_type": "stream",
     "text": [
      "False\n",
      "False\n",
      "True\n",
      "False\n",
      "False\n",
      "True\n"
     ]
    }
   ],
   "source": [
    "print((5 > 4) and (3 == 5))\n",
    "print(not (5 > 4))    \n",
    "print((5 > 4) or (3 == 5))\n",
    "print(not ((5 > 4) or (3 == 5)))    \n",
    "print((True and True) and (True == False))\n",
    "print((not False) or (not True))"
   ]
  },
  {
   "cell_type": "markdown",
   "id": "60e77498",
   "metadata": {},
   "source": [
    "__Q5.__ What are the six comparison operators?"
   ]
  },
  {
   "cell_type": "markdown",
   "id": "be6c0a76",
   "metadata": {},
   "source": [
    "__Ans:__\n",
    "\n",
    "Six comparison operators are: \n",
    "<, >, <=, >=, ==, !=\n"
   ]
  },
  {
   "cell_type": "markdown",
   "id": "4fd979b8",
   "metadata": {},
   "source": [
    "__Q6.__ How do you tell the difference between the equal to and assignment operators?Describe a condition and when you would use one."
   ]
  },
  {
   "cell_type": "markdown",
   "id": "4105e6ab",
   "metadata": {},
   "source": [
    "__Ans:__\n",
    "\n",
    "Double equal sign '==' is used for compairson operator which returns boolean values.\n",
    "Where as single equal sign '=' is used for assignment operators which assigns any values to a particular variables.\n",
    "For example:-"
   ]
  },
  {
   "cell_type": "code",
   "execution_count": 9,
   "id": "c3215abe",
   "metadata": {},
   "outputs": [
    {
     "name": "stdout",
     "output_type": "stream",
     "text": [
      "True\n"
     ]
    }
   ],
   "source": [
    "# Assigning operator that stores 10 value in a variable a\n",
    "a = 10\n",
    "#comparing values of a varible value and 3\n",
    "if a == 10:\n",
    "    print(a == 10)"
   ]
  },
  {
   "cell_type": "markdown",
   "id": "631f69e7",
   "metadata": {},
   "source": [
    "__Q7.__ Identify the three blocks in this code:\n",
    "\n",
    "         spam = 0\n",
    "         if spam == 10:\n",
    "         print('eggs')\n",
    "         if spam > 5:\n",
    "         print('bacon')\n",
    "         else:\n",
    "         print('ham')\n",
    "         print('spam') \n",
    "         print('spam')"
   ]
  },
  {
   "cell_type": "markdown",
   "id": "8569087a",
   "metadata": {},
   "source": [
    "__Ans:__"
   ]
  },
  {
   "cell_type": "code",
   "execution_count": 12,
   "id": "9ba14c82",
   "metadata": {},
   "outputs": [
    {
     "name": "stdout",
     "output_type": "stream",
     "text": [
      "ham\n",
      "spam\n",
      "spam\n"
     ]
    }
   ],
   "source": [
    "spam = 0  \n",
    "if spam == 10:     # block 1\n",
    "    print('eggs')  \n",
    "if spam > 5:       # block 2\n",
    "    print('bacon')  \n",
    "else:              # block 3\n",
    "    print('ham')  \n",
    "    print('spam')  \n",
    "    print('spam')"
   ]
  },
  {
   "cell_type": "markdown",
   "id": "8d2f6734",
   "metadata": {},
   "source": [
    "__Q8.__ Write code that prints Hello if 1 is stored in spam, prints Howdy if 2 is stored in spam, and prints Greetings! if anything else is stored in spam."
   ]
  },
  {
   "cell_type": "markdown",
   "id": "21747bdd",
   "metadata": {},
   "source": [
    "__Ans:__"
   ]
  },
  {
   "cell_type": "code",
   "execution_count": 24,
   "id": "106e5e5f",
   "metadata": {},
   "outputs": [
    {
     "name": "stdout",
     "output_type": "stream",
     "text": [
      "Hello\n",
      "Howdy\n",
      "Greetings!\n"
     ]
    }
   ],
   "source": [
    "def spamcode(spam):\n",
    "    if spam == 1:\n",
    "        print(\"Hello\")\n",
    "    elif spam == 2:\n",
    "        print(\"Howdy\")\n",
    "    else:\n",
    "        print(\"Greetings!\")\n",
    "spamcode(1)\n",
    "spamcode(2)\n",
    "spamcode(3)"
   ]
  },
  {
   "cell_type": "markdown",
   "id": "4f06a1a5",
   "metadata": {},
   "source": [
    "__Q9.__ If your programme is stuck in an endless loop, what keys you’ll press?"
   ]
  },
  {
   "cell_type": "markdown",
   "id": "4979d649",
   "metadata": {},
   "source": [
    "__Ans:__ Press Ctrl-c to stop a program stuck in an infinite loop."
   ]
  },
  {
   "cell_type": "markdown",
   "id": "ebe8fbb3",
   "metadata": {},
   "source": [
    "__Q10.__ How can you tell the difference between break and continue?"
   ]
  },
  {
   "cell_type": "markdown",
   "id": "1881d48f",
   "metadata": {},
   "source": [
    "__Ans:__\n",
    "\n",
    "The break statement will move the execution outside the loop if break condtion is satisfied. Whereas the continue statement will move the execution to the start of the loop."
   ]
  },
  {
   "cell_type": "markdown",
   "id": "5bd74ca2",
   "metadata": {},
   "source": [
    "__Q11.__ In a for loop, what is the difference between range(10), range(0, 10), and range(0, 10, 1)?"
   ]
  },
  {
   "cell_type": "markdown",
   "id": "9c08319c",
   "metadata": {},
   "source": [
    "__Ans:__ \n",
    "\n",
    "range(10):- it calls range starting from 0 to 9 excluding 10.\n",
    "range(0,10):- Here 0 indicates the starting value so the range will start from 0 and end at 9.\n",
    "range(0,10,1):- 0 represents the start position, 10 represents end position and 1 tells the loop to increase the variable by 1 on each iteration. So it will also lies from 0 to 9."
   ]
  },
  {
   "cell_type": "code",
   "execution_count": 30,
   "id": "d9665b08",
   "metadata": {},
   "outputs": [
    {
     "data": {
      "text/plain": [
       "[0, 1, 2, 3, 4, 5, 6, 7, 8, 9]"
      ]
     },
     "execution_count": 30,
     "metadata": {},
     "output_type": "execute_result"
    }
   ],
   "source": [
    "list(range(10))"
   ]
  },
  {
   "cell_type": "code",
   "execution_count": 31,
   "id": "ee79d282",
   "metadata": {},
   "outputs": [
    {
     "data": {
      "text/plain": [
       "[0, 1, 2, 3, 4, 5, 6, 7, 8, 9]"
      ]
     },
     "execution_count": 31,
     "metadata": {},
     "output_type": "execute_result"
    }
   ],
   "source": [
    "list(range(0,10))"
   ]
  },
  {
   "cell_type": "code",
   "execution_count": 32,
   "id": "9c723d66",
   "metadata": {},
   "outputs": [
    {
     "data": {
      "text/plain": [
       "[0, 1, 2, 3, 4, 5, 6, 7, 8, 9]"
      ]
     },
     "execution_count": 32,
     "metadata": {},
     "output_type": "execute_result"
    }
   ],
   "source": [
    "list(range(0,10,1))"
   ]
  },
  {
   "cell_type": "markdown",
   "id": "cec98f51",
   "metadata": {},
   "source": [
    "__Q12.__ Write a short program that prints the numbers 1 to 10 using a for loop. Then write an equivalent program that prints the numbers 1 to 10 using a while loop."
   ]
  },
  {
   "cell_type": "markdown",
   "id": "544c3efd",
   "metadata": {},
   "source": [
    "__Ans:__ "
   ]
  },
  {
   "cell_type": "code",
   "execution_count": 40,
   "id": "0514d097",
   "metadata": {},
   "outputs": [
    {
     "name": "stdout",
     "output_type": "stream",
     "text": [
      "1\n",
      "2\n",
      "3\n",
      "4\n",
      "5\n",
      "6\n",
      "7\n",
      "8\n",
      "9\n",
      "10\n"
     ]
    }
   ],
   "source": [
    "# Using for loop\n",
    "for i in range(1,11):\n",
    "        print(i)"
   ]
  },
  {
   "cell_type": "code",
   "execution_count": 41,
   "id": "bbb8c12b",
   "metadata": {},
   "outputs": [
    {
     "name": "stdout",
     "output_type": "stream",
     "text": [
      "1 2 3 4 5 6 7 8 9 10 "
     ]
    }
   ],
   "source": [
    "# Using while loop\n",
    "i = 1\n",
    "while i <= 10:\n",
    "    print(i, end=\" \")\n",
    "    i += 1"
   ]
  },
  {
   "cell_type": "markdown",
   "id": "d62b311a",
   "metadata": {},
   "source": [
    "__Q13.__ If you had a function named bacon() inside a module named spam, how would you call it after importing spam?"
   ]
  },
  {
   "cell_type": "markdown",
   "id": "c2658a84",
   "metadata": {},
   "source": [
    "__Ans:__ This function can be called with spam.bacon()."
   ]
  }
 ],
 "metadata": {
  "kernelspec": {
   "display_name": "Python 3 (ipykernel)",
   "language": "python",
   "name": "python3"
  },
  "language_info": {
   "codemirror_mode": {
    "name": "ipython",
    "version": 3
   },
   "file_extension": ".py",
   "mimetype": "text/x-python",
   "name": "python",
   "nbconvert_exporter": "python",
   "pygments_lexer": "ipython3",
   "version": "3.9.12"
  }
 },
 "nbformat": 4,
 "nbformat_minor": 5
}
